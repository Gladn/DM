{
  "nbformat": 4,
  "nbformat_minor": 0,
  "metadata": {
    "colab": {
      "name": "Untitled0.ipynb",
      "provenance": [],
      "authorship_tag": "ABX9TyNnsq/gr16O+byUhZmPfZGg",
      "include_colab_link": true
    },
    "kernelspec": {
      "name": "python3",
      "display_name": "Python 3"
    },
    "language_info": {
      "name": "python"
    }
  },
  "cells": [
    {
      "cell_type": "markdown",
      "metadata": {
        "id": "view-in-github",
        "colab_type": "text"
      },
      "source": [
        "<a href=\"https://colab.research.google.com/github/Gladn/DM/blob/main/catsvsdogs.ipynb\" target=\"_parent\"><img src=\"https://colab.research.google.com/assets/colab-badge.svg\" alt=\"Open In Colab\"/></a>"
      ]
    },
    {
      "cell_type": "markdown",
      "source": [
        "# Введение"
      ],
      "metadata": {
        "id": "e3_PZyb3nEbQ"
      }
    },
    {
      "cell_type": "markdown",
      "source": [
        "Создание простой сверточной нейронной сети"
      ],
      "metadata": {
        "id": "_fHWp-VVvsJW"
      }
    },
    {
      "cell_type": "markdown",
      "source": [
        "# Кошки и собаки"
      ],
      "metadata": {
        "id": "DmQEiiz0nFCg"
      }
    },
    {
      "cell_type": "markdown",
      "source": [
        "Создание нейронной сети для различия кошек и собак\n",
        "Используются библиотека tensorflow\n",
        "https://www.tensorflow.org/"
      ],
      "metadata": {
        "id": "DzIqlQqgv2Zm"
      }
    },
    {
      "cell_type": "code",
      "source": [
        "import tensorflow as tf\n",
        "import tensorflow_datasets as tfds\n",
        "from tensorflow import keras\n",
        "from matplotlib import pyplot as pyplot"
      ],
      "metadata": {
        "id": "liFECNRqvKLG"
      },
      "execution_count": 1,
      "outputs": []
    },
    {
      "cell_type": "markdown",
      "source": [
        "Необоходимо привести изображения к одному вида\n"
      ],
      "metadata": {
        "id": "i9uwk9vOwE6E"
      }
    },
    {
      "cell_type": "code",
      "source": [
        "def preproccess(img, label):\n",
        "  return tf.image.resize(img,[200,200])/255, label"
      ],
      "metadata": {
        "id": "RNxanGlvwHjl"
      },
      "execution_count": 2,
      "outputs": []
    },
    {
      "cell_type": "markdown",
      "source": [
        "Необходимо все данные разделить на несколько частей train()/valid()/test()"
      ],
      "metadata": {
        "id": "u-gC-qkzw1yF"
      }
    },
    {
      "cell_type": "code",
      "source": [
        "split = [\"train[:70%]\",\"train[:70%]\"]"
      ],
      "metadata": {
        "id": "jYdjoGXtwiWF"
      },
      "execution_count": null,
      "outputs": []
    },
    {
      "cell_type": "markdown",
      "source": [
        "сами датасеты "
      ],
      "metadata": {
        "id": "RuGekX_dxczO"
      }
    },
    {
      "cell_type": "code",
      "source": [
        "trainDataset,testDataset = tfds.load(name = 'cats_vs_dogs', \n",
        "                                     split = split, \n",
        "                                     as_supervised=True)"
      ],
      "metadata": {
        "id": "MumlfROqxfZ1"
      },
      "execution_count": null,
      "outputs": []
    },
    {
      "cell_type": "markdown",
      "source": [
        "Разделение всего куска датасета на пакеты(партии) batch, чтоб не было перегрузки"
      ],
      "metadata": {
        "id": "oYZdTrNGy5-M"
      }
    },
    {
      "cell_type": "code",
      "source": [
        "trainDataset = trainDataset.map(preprocess).batch(32)\n",
        "testDataset = testDataset.map(preprocess).batch(32)"
      ],
      "metadata": {
        "id": "3W_YKQoUzPp9"
      },
      "execution_count": null,
      "outputs": []
    }
  ]
}